{
 "cells": [
  {
   "cell_type": "code",
   "execution_count": 1,
   "id": "9e6d5e33",
   "metadata": {},
   "outputs": [
    {
     "ename": "NameError",
     "evalue": "name 'GIS' is not defined",
     "output_type": "error",
     "traceback": [
      "\u001b[0;31m---------------------------------------------------------------------------\u001b[0m",
      "\u001b[0;31mNameError\u001b[0m                                 Traceback (most recent call last)",
      "\u001b[0;32m/var/folders/rt/kp2clsdx23v93zzd7srw0hlh0000gn/T/ipykernel_1836/1571109894.py\u001b[0m in \u001b[0;36m<module>\u001b[0;34m\u001b[0m\n\u001b[1;32m      7\u001b[0m \u001b[0;34m\u001b[0m\u001b[0m\n\u001b[1;32m      8\u001b[0m \u001b[0;31m#gis = GIS(client_id = '6bs2nZZsgDYTM7Ut')\u001b[0m\u001b[0;34m\u001b[0m\u001b[0;34m\u001b[0m\u001b[0;34m\u001b[0m\u001b[0m\n\u001b[0;32m----> 9\u001b[0;31m \u001b[0mgis\u001b[0m \u001b[0;34m=\u001b[0m \u001b[0mGIS\u001b[0m\u001b[0;34m(\u001b[0m\u001b[0;34m)\u001b[0m\u001b[0;34m\u001b[0m\u001b[0;34m\u001b[0m\u001b[0m\n\u001b[0m\u001b[1;32m     10\u001b[0m \u001b[0;31m#print(\"Successfully logged in as: \" + gis.properties.user.username)\u001b[0m\u001b[0;34m\u001b[0m\u001b[0;34m\u001b[0m\u001b[0;34m\u001b[0m\u001b[0m\n",
      "\u001b[0;31mNameError\u001b[0m: name 'GIS' is not defined"
     ]
    }
   ],
   "source": [
    "#from arcgis.gis import GIS\n",
    "#from arcgis.mapping import WebMap\n",
    "#from arcgis.features import FeatureLayer\n",
    "#from IPython.display import display, HTML\n",
    "#from ipywidgets import interact, interactive, fixed, interact_manual\n",
    "#import ipywidgets as widgets\n",
    "\n",
    "#gis = GIS(client_id = '6bs2nZZsgDYTM7Ut')\n",
    "gis = GIS()\n",
    "#print(\"Successfully logged in as: \" + gis.properties.user.username)"
   ]
  },
  {
   "cell_type": "code",
   "execution_count": 57,
   "id": "d1e5e7f1",
   "metadata": {},
   "outputs": [
    {
     "data": {
      "text/html": [
       "<h2>What would you like to explore?"
      ],
      "text/plain": [
       "<IPython.core.display.HTML object>"
      ]
     },
     "metadata": {},
     "output_type": "display_data"
    }
   ],
   "source": [
    "#Creating list of disidx using temp map (temp map is arbitruary, canopy map contains disparity indexes too)\n",
    "#list for use in drop down in main function\n",
    "temp_map = gis.content.get('7f456e6543f1450bb4c1d672a79daaab')\n",
    "temp_map_w = WebMap(temp_map)\n",
    "layers = temp_map_w.layers\n",
    "layer = layers[0]\n",
    "attributes = layer['popupInfo']['fieldInfos']\n",
    "attribute_list = []\n",
    "for attribute in attributes:\n",
    "    name = attribute['label']\n",
    "    attribute_list.append(name)\n",
    "start = attribute_list.index('DisIdxPoverty')\n",
    "end = attribute_list.index('DisIdxBus')\n",
    "disidx = attribute_list[start:end+1]\n",
    "\n",
    "\n",
    "def disparity_index(disparity_index):\n",
    "    #surface temperature map will be rendered using dispairty indexes\n",
    "    cuse_layer = FeatureLayer('https://services1.arcgis.com/VM2sYETMYd1aOIXK/arcgis/rest/services/Surface_Temperature_Cuse_WFL1/FeatureServer')\n",
    "    cuse_map = gis.map(\"Syracuse, NY\")\n",
    "    # Rendering\n",
    "    disp_renderer = {\"renderer\": \"autocast\",\n",
    "                 \"type\": \"classBreaks\",  \n",
    "                 \"field\": disparity_index,\n",
    "                 \"minValue\":-100}\n",
    "    #colors in rgb, 4th value is transparency\n",
    "    white = [255, 254, 230, 255]\n",
    "    red1 = [255, 179, 179, 255]\n",
    "    red2 = [255, 133, 133, 255]\n",
    "    red3 = [255, 87, 87, 255]\n",
    "    red4 = [255, 43, 43, 255]\n",
    "    red5 = [255, 0, 0, 255]\n",
    "    outline = {\"color\": [153,153,153,255], \"width\": 0.375,\"type\": \"esriSLS\", \"style\": \"esriSLSSolid\"}\n",
    "    # Rendering class breaks\n",
    "    disp_renderer[\"classBreakInfos\"] = [\n",
    "                                        \n",
    "                                        {\"symbol\": {\n",
    "                                            \"color\": white,\n",
    "                                            \"outline\": outline,\n",
    "                                            \"type\": \"esriSFS\",\n",
    "                                            \"style\": \"esriSFSSolid\"},\n",
    "                                        \"classMaxValue\": 0},\n",
    "                                    \n",
    "                                         {\"symbol\": {\n",
    "                                            \"color\": red1,\n",
    "                                            \"outline\": outline,\n",
    "                                            \"type\": \"esriSFS\",\n",
    "                                            \"style\": \"esriSFSSolid\"},\n",
    "                                        \"classMaxValue\": 1},\n",
    "                                        \n",
    "                                        \n",
    "                                        {\"symbol\": {\n",
    "                                            \"color\": red2,\n",
    "                                            \"outline\": outline,\n",
    "                                            \"type\": \"esriSFS\",\n",
    "                                            \"style\": \"esriSFSSolid\"}, \n",
    "                                         \"classMaxValue\": 2},\n",
    "                                        \n",
    "                                        {\"symbol\": {\n",
    "                                            \"color\": red3,\n",
    "                                            \"outline\": outline,\n",
    "                                            \"type\": \"esriSFS\",\n",
    "                                            \"style\": \"esriSFSSolid\"\n",
    "                                        },\n",
    "                                        \"classMaxValue\": 3},\n",
    "                                      \n",
    "                                        {\"symbol\": {\n",
    "                                            \"color\": red4,\n",
    "                                            \"outline\": outline,\n",
    "                                            \"type\": \"esriSFS\",\n",
    "                                            \"style\": \"esriSFSSolid\"\n",
    "                                        },\n",
    "                                        \"classMaxValue\": 6},\n",
    "                        \n",
    "                                        {\"symbol\": {\n",
    "                                            \"color\": red5,\n",
    "                                            \"outline\": outline,\n",
    "                                            \"type\": \"esriSFS\",\n",
    "                                            \"style\": \"esriSFSSolid\"\n",
    "                                        },\n",
    "                                        \"classMaxValue\": 69}]\n",
    "    \n",
    "    #add layer with rendering to blank map of syracuse\n",
    "    cuse_map.add_layer(cuse_layer,\n",
    "               { \"type\": \"FeatureLayer\",\n",
    "                 \"renderer\": disp_renderer,\n",
    "                 \"field_name\": disparity_index,\n",
    "                  \"minValue\": -100})\n",
    "    return cuse_map\n",
    "\n",
    "#these functions return weird print message instead of map when called within main function\n",
    "def temp_map():\n",
    "    temp_map = gis.content.get('7f456e6543f1450bb4c1d672a79daaab')\n",
    "    temp_map_w = WebMap(temp_map)\n",
    "    return temp_map_w\n",
    "def canopy_map():\n",
    "    canopy_map = gis.content.get('c158a162af6b4130af5cc2f050b41dc6')\n",
    "    canopy_map_w = WebMap(canopy_map)\n",
    "    return canopy_map_w\n",
    "display(HTML(f\"<h2>What would you like to explore?\"))\n",
    "\n",
    "#gets the rank fields in a list for use in drop down in main function\n",
    "webmap = gis.content.get('e679923ed6e14204b2426677044d110b')\n",
    "p_layer = WebMap(webmap)\n",
    "p_attributes = p_layer.layers\n",
    "fields = p_attributes[0]['popupInfo']['fieldInfos']\n",
    "field_list = []\n",
    "for field in fields:\n",
    "    name = field['fieldName']\n",
    "    field_list.append(name)\n",
    "start = field_list.index('Poverty_rank')\n",
    "end = field_list.index('Temp_rank')\n",
    "ranks = field_list[start:end+1]\n",
    "\n",
    "#gets priority map and priority map features\n",
    "priority = gis.content.get('eeb7fa098a544c4cb82903d394585483')\n",
    "priority_layer = priority.layers[0]\n",
    "query = priority_layer.query()\n",
    "features = query.features\n",
    "\n",
    "#gets user editable map\n",
    "custom = gis.content.get('f9ae1ac3c476483f94e658e50bfe96e4')\n",
    "c_layer = custom.layers[0]\n",
    "c_query = c_layer.query()\n",
    "c_features = c_query.features\n",
    "priority_features = [f for f in c_features]\n",
    "# if f.attributes['Priority_rank']==1 to above line?\n",
    "\n",
    "#appends features\n",
    "def feature_scores(feature):\n",
    "    feature_values = []\n",
    "    for f in features:\n",
    "        feature_values.append(f.attributes[feature])\n",
    "    return feature_values\n",
    "\n",
    "def get_Priorties(poverty_weight, latino_weight, black_weight, senior_weight, \n",
    "                  child_weight, walk_weight, bus_weight, canopy_weight, temp_weight):\n",
    "    # returns statement to user if weights do not add up to 100\n",
    "    total_weight = poverty_weight + latino_weight + black_weight + senior_weight + child_weight + walk_weight + bus_weight + canopy_weight + temp_weight\n",
    "    if total_weight != 100:\n",
    "        return f\"Weights must equal 100 in total, weights currently equal {total_weight}\"\n",
    "    # conversions from percents\n",
    "    poverty_weight = poverty_weight * .01\n",
    "    latino_weight = latino_weight * .01\n",
    "    black_weight = black_weight * .01\n",
    "    senior_weight = senior_weight * .01\n",
    "    child_weight = child_weight * .01\n",
    "    walk_weight = walk_weight * .01\n",
    "    bus_weight = bus_weight * .01\n",
    "    canopy_weight = canopy_weight * .01\n",
    "    temp_weight = temp_weight * .01\n",
    "    \n",
    "    # scores\n",
    "    poverty_scores = feature_scores('Poverty_rank')\n",
    "    latino_scores = feature_scores('Latino_rank')\n",
    "    black_scores = feature_scores('Black_rank')\n",
    "    senior_scores = feature_scores('Senior_rank')\n",
    "    child_scores = feature_scores('Children_rank')\n",
    "    walk_scores = feature_scores('Walk_rank')\n",
    "    bus_scores = feature_scores('Bus_rank')\n",
    "    canopy_scores = (feature_scores('Canopy_rank'))\n",
    "    temp_scores = feature_scores('Temp_rank')\n",
    "    priority_list = []\n",
    "\n",
    "    #appends the scores and inverses canopy\n",
    "    for f in range(len(features)):\n",
    "        priority_list.append(poverty_scores[f]*poverty_weight+latino_scores[f]*latino_weight+black_scores[f]*black_weight +\n",
    "                            senior_scores[f]*senior_weight + child_scores[f]*child_weight + walk_scores[f]*walk_weight +\n",
    "                            bus_scores[f]*bus_weight + (1-canopy_scores[f])*canopy_weight + temp_scores[f]*temp_weight)\n",
    "    #makes a list of each census tract with calculated priority rank\n",
    "    c_edit = c_features\n",
    "    i = 0\n",
    "    for f in c_edit:\n",
    "        f.attributes['Priority_rank'] = priority_list[i]\n",
    "        i+=1\n",
    "    j = 0\n",
    "    #updates feature layer with calculated prioritiy ranks\n",
    "    for f in c_edit:\n",
    "        update_result = c_layer.edit_features(updates=[c_edit[j]])\n",
    "        j+=1\n",
    "    custom_map = gis.map(\"Syracuse, NY\")\n",
    "    custom_map.add_layer(c_layer, { \"renderer\":\"UnclassedColorsRenderer\", \"field_name\":\"Priority_rank\" })\n",
    "    custom_map\n",
    "    return custom_map\n",
    "\n",
    "def main(topic):\n",
    "    if topic == 'Surface temperature':\n",
    "        temp_map = gis.content.get('7f456e6543f1450bb4c1d672a79daaab')\n",
    "        mymap = WebMap(temp_map)\n",
    "        mymap\n",
    "    elif topic == 'Canopy cover':\n",
    "        canopy_map = gis.content.get('c158a162af6b4130af5cc2f050b41dc6')\n",
    "        mymap = WebMap(canopy_map)\n",
    "        mymap\n",
    "    elif topic == 'Disparity indexes':\n",
    "        interact(disparity_index, disparity_index=disidx)\n",
    "    else:\n",
    "        interact(get_Priorties, poverty_weight=widgets.IntSlider(min=0, max=100, step=1, value=15), \n",
    "                 latino_weight=widgets.IntSlider(min=0, max=100, step=1, value=15),\n",
    "                black_weight=widgets.IntSlider(min=0, max=100, step=1, value=15),\n",
    "                senior_weight=widgets.IntSlider(min=0, max=100, step=1, value=5),\n",
    "                child_weight=widgets.IntSlider(min=0, max=100, step=1, value=5),\n",
    "                walk_weight=widgets.IntSlider(min=0, max=100, step=1, value=10),\n",
    "                bus_weight=widgets.IntSlider(min=0, max=100, step=1, value=10),\n",
    "                canopy_weight=widgets.IntSlider(min=0, max=100, step=1, value=15),\n",
    "                temp_weight=widgets.IntSlider(min=0, max=100, step=1, value=10))\n",
    "    return mymap"
   ]
  },
  {
   "cell_type": "code",
   "execution_count": 58,
   "id": "38c9b5ad",
   "metadata": {
    "scrolled": true
   },
   "outputs": [
    {
     "data": {
      "application/vnd.jupyter.widget-view+json": {
       "model_id": "ad0626ca89e348d78eec17d08d067868",
       "version_major": 2,
       "version_minor": 0
      },
      "text/plain": [
       "interactive(children=(Dropdown(description='topic', options=('Surface temperature', 'Canopy cover', 'Disparity…"
      ]
     },
     "metadata": {},
     "output_type": "display_data"
    },
    {
     "data": {
      "text/plain": [
       "<function __main__.main(topic)>"
      ]
     },
     "execution_count": 58,
     "metadata": {},
     "output_type": "execute_result"
    }
   ],
   "source": [
    "interact(main, topic=['Surface temperature', 'Canopy cover', 'Disparity indexes', 'User concern index'])"
   ]
  },
  {
   "cell_type": "code",
   "execution_count": 20,
   "id": "08fa886d",
   "metadata": {},
   "outputs": [
    {
     "data": {
      "text/plain": [
       "<FeatureLayer url:\"https://services1.arcgis.com/VM2sYETMYd1aOIXK/arcgis/rest/services/Surface_Temperature_Cuse_WFL1/FeatureServer\">"
      ]
     },
     "execution_count": 20,
     "metadata": {},
     "output_type": "execute_result"
    }
   ],
   "source": []
  },
  {
   "cell_type": "code",
   "execution_count": 3,
   "id": "8f0c584f",
   "metadata": {},
   "outputs": [],
   "source": [
    " "
   ]
  },
  {
   "cell_type": "code",
   "execution_count": 4,
   "id": "ec6db99a",
   "metadata": {},
   "outputs": [
    {
     "name": "stdout",
     "output_type": "stream",
     "text": [
      "\u001b[31mERROR: Could not open requirements file: [Errno 2] No such file or directory: 'requirements.txt'\u001b[0m\r\n"
     ]
    }
   ],
   "source": []
  },
  {
   "cell_type": "code",
   "execution_count": null,
   "id": "b7e8a2ca",
   "metadata": {},
   "outputs": [],
   "source": []
  }
 ],
 "metadata": {
  "kernelspec": {
   "display_name": "Python 3 (ipykernel)",
   "language": "python",
   "name": "python3"
  },
  "language_info": {
   "codemirror_mode": {
    "name": "ipython",
    "version": 3
   },
   "file_extension": ".py",
   "mimetype": "text/x-python",
   "name": "python",
   "nbconvert_exporter": "python",
   "pygments_lexer": "ipython3",
   "version": "3.7.11"
  }
 },
 "nbformat": 4,
 "nbformat_minor": 5
}
